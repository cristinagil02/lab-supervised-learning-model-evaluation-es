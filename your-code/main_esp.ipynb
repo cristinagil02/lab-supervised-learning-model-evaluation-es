{
 "cells": [
  {
   "cell_type": "markdown",
   "metadata": {},
   "source": [
    "# Laboratorio de evaluación de modelos de aprendizaje supervisado\n",
    "\n",
    "Realice los siguientes ejercicios para consolidar sus conocimientos y comprensión de la evaluación de modelos de aprendizaje supervisado."
   ]
  },
  {
   "cell_type": "code",
   "execution_count": null,
   "metadata": {},
   "outputs": [],
   "source": [
    "import pandas as pd\n",
    "import warnings\n",
    "warnings.filterwarnings('ignore')"
   ]
  },
  {
   "cell_type": "markdown",
   "metadata": {},
   "source": [
    "## Evaluación de modelos de regresión"
   ]
  },
  {
   "cell_type": "code",
   "execution_count": null,
   "metadata": {},
   "outputs": [],
   "source": [
    "import pandas as pd\n",
    "from sklearn.datasets import load_boston\n",
    "\n",
    "# Cargar el conjunto de datos de Boston\n",
    "data = load_boston()\n",
    "\n",
    "# Crear DataFrame para las características\n",
    "X = pd.DataFrame(data[\"data\"], columns=data[\"feature_names\"])\n",
    "\n",
    "# Crear DataFrame para la variable objetivo\n",
    "y = pd.DataFrame(data[\"target\"], columns=['MEDV'])\n",
    "\n",
    "# Combinar características y variable objetivo en un solo DataFrame\n",
    "df = pd.concat([X, y], axis=1)\n",
    "\n",
    "# Mostrar las primeras filas del DataFrame para verificar\n",
    "print(df.head())\n"
   ]
  },
  {
   "cell_type": "code",
   "execution_count": null,
   "metadata": {},
   "outputs": [],
   "source": [
    "import numpy as np\n",
    "from sklearn.datasets import fetch_openml\n",
    "\n",
    "# Cargar el conjunto de datos de Boston desde fetch_openml\n",
    "boston = fetch_openml(data_id=531)\n",
    "X, y = boston.data, boston.target\n",
    "features = boston.feature_names\n",
    "\n",
    "X = np.array(X, dtype=np.float64)\n",
    "y = np.array(y, dtype=np.float64)"
   ]
  },
  {
   "cell_type": "code",
   "execution_count": null,
   "metadata": {},
   "outputs": [],
   "source": [
    "## Devido a que el conjunto de datos no se puede cargar los ejercicios estan hechos para practicar el codigo sin realitzar su ejecución. "
   ]
  },
  {
   "cell_type": "markdown",
   "metadata": {},
   "source": [
    "## 1. Divida este conjunto de datos en conjuntos de train (80%) y de test (20%).\n",
    "\n",
    "El campo `MEDV` representa el valor medio de las viviendas ocupadas por sus propietarios (en miles de dólares) y es la variable objetivo que queremos predecir."
   ]
  },
  {
   "cell_type": "code",
   "execution_count": null,
   "metadata": {},
   "outputs": [],
   "source": [
    "from sklearn.model_selection import train_test_split\n",
    "from sklearn.metrics import mean_squared_error, r2_score, mean_absolute_error\n",
    "from sklearn.metrics import accuracy_score, balanced_accuracy_score, precision_score, f1_score, recall_score, confusion_matrix"
   ]
  },
  {
   "cell_type": "code",
   "execution_count": null,
   "metadata": {},
   "outputs": [],
   "source": [
    "# Separar la variable objetivo (MEDV) y las características\n",
    "X = df.drop(columns=['MEDV'])\n",
    "y = df['MEDV']\n"
   ]
  },
  {
   "cell_type": "markdown",
   "metadata": {},
   "source": [
    "## 2. Entrene un modelo `LinearRegression` en este conjunto de datos y genere predicciones tanto en el conjunto de entrenamiento como en el de prueba."
   ]
  },
  {
   "cell_type": "code",
   "execution_count": null,
   "metadata": {},
   "outputs": [],
   "source": [
    "import pandas as pd\n",
    "from sklearn.datasets import load_boston\n",
    "from sklearn.model_selection import train_test_split\n",
    "from sklearn.linear_model import LinearRegression\n",
    "from sklearn.metrics import mean_squared_error, r2_score\n",
    "\n",
    "# Cargar el conjunto de datos de Boston\n",
    "data = load_boston()\n",
    "\n",
    "# Crear DataFrame para las características\n",
    "X = pd.DataFrame(data[\"data\"], columns=data[\"feature_names\"])\n",
    "\n",
    "# Crear DataFrame para la variable objetivo\n",
    "y = pd.DataFrame(data[\"target\"], columns=['MEDV'])\n",
    "\n",
    "# Combinar características y variable objetivo en un solo DataFrame\n",
    "df = pd.concat([X, y], axis=1)\n",
    "\n",
    "# Separar características y variable objetivo\n",
    "X = df.drop(columns=['MEDV'])\n",
    "y = df['MEDV']\n",
    "\n",
    "# Dividir el conjunto de datos en entrenamiento y prueba\n",
    "X_entrenamiento, X_prueba, y_entrenamiento, y_prueba = train_test_split(\n",
    "    X, y, \n",
    "    test_size=0.20,  # 20% de los datos para prueba\n",
    "    random_state=42  # Para reproducibilidad\n",
    ")\n",
    "\n",
    "# Inicializar el modelo de regresión lineal\n",
    "modelo_lr = LinearRegression()\n",
    "\n",
    "# Ajustar el modelo a los datos de entrenamiento\n",
    "modelo_lr.fit(X_entrenamiento, y_entrenamiento)\n",
    "\n",
    "# Generar predicciones en el conjunto de entrenamiento\n",
    "y_pred_entrenamiento = modelo_lr.predict(X_entrenamiento)\n",
    "\n",
    "# Generar predicciones en el conjunto de prueba\n",
    "y_pred_prueba = modelo_lr.predict(X_prueba)\n",
    "\n",
    "# Evaluar el modelo en el conjunto de entrenamiento\n",
    "mse_entrenamiento = mean_squared_error(y_entrenamiento, y_pred_entrenamiento)\n",
    "r2_entrenamiento = r2_score(y_entrenamiento, y_pred_entrenamiento)\n",
    "\n",
    "# Evaluar el modelo en el conjunto de prueba\n",
    "mse_prueba = mean_squared_error(y_prueba, y_pred_prueba)\n",
    "r2_prueba = r2_score(y_prueba, y_pred_prueba)\n",
    "\n",
    "# Imprimir los resultados\n",
    "print(\"Conjunto de Entrenamiento:\")\n",
    "print(f\"Error cuadrático medio (MSE): {mse_entrenamiento:.2f}\")\n",
    "print(f\"Coeficiente de determinación (R^2): {r2_entrenamiento:.2f}\")\n",
    "\n",
    "print(\"\\nConjunto de Prueba:\")\n",
    "print(f\"Error cuadrático medio (MSE): {mse_prueba:.2f}\")\n",
    "print(f\"Coeficiente de determinación (R^2): {r2_prueba:.2f}\")\n"
   ]
  },
  {
   "cell_type": "markdown",
   "metadata": {},
   "source": [
    "## 3. Calcule e imprima R-cuadrado tanto para el conjunto de entrenamiento como para el de prueba."
   ]
  },
  {
   "cell_type": "code",
   "execution_count": null,
   "metadata": {},
   "outputs": [],
   "source": [
    "from sklearn.metrics import r2_score\n",
    "\n",
    "# Cargar el conjunto de datos de Boston\n",
    "boston = load_boston()\n",
    "X, y = boston.data, boston.target\n",
    "\n",
    "# Dividir el conjunto de datos en entrenamiento y prueba\n",
    "X_train, X_test, y_train, y_test = train_test_split(\n",
    "    X, y, \n",
    "    test_size=0.20,  # 20% de los datos para prueba\n",
    "    random_state=42  # Para reproducibilidad\n",
    ")\n",
    "\n",
    "# Inicializar el modelo de regresión lineal\n",
    "modelo_lr = LinearRegression()\n",
    "\n",
    "# Ajustar el modelo a los datos de entrenamiento\n",
    "modelo_lr.fit(X_train, y_train)\n",
    "\n",
    "# Hacer predicciones en el conjunto de entrenamiento\n",
    "y_pred_train = modelo_lr.predict(X_train)\n",
    "\n",
    "# Hacer predicciones en el conjunto de prueba\n",
    "y_pred_test = modelo_lr.predict(X_test)\n",
    "\n",
    "# Calcular R-cuadrado para el conjunto de entrenamiento\n",
    "r2_train = r2_score(y_train, y_pred_train)\n",
    "\n",
    "# Calcular R-cuadrado para el conjunto de prueba\n",
    "r2_test = r2_score(y_test, y_pred_test)\n",
    "\n",
    "# Imprimir los resultados\n",
    "print(\"R-cuadrado para el Conjunto de Entrenamiento:\")\n",
    "print(f\"R-cuadrado: {r2_train:.2f}\")\n",
    "\n",
    "print(\"\\nR-cuadrado para el Conjunto de Prueba:\")\n",
    "print(f\"R-cuadrado: {r2_test:.2f}\")\n"
   ]
  },
  {
   "cell_type": "markdown",
   "metadata": {},
   "source": [
    "## 4. Calcule e imprima el error cuadrático medio para el conjunto de entrenamiento y de prueba."
   ]
  },
  {
   "cell_type": "code",
   "execution_count": null,
   "metadata": {},
   "outputs": [],
   "source": [
    "import pandas as pd\n",
    "from sklearn.datasets import load_boston\n",
    "from sklearn.model_selection import train_test_split\n",
    "from sklearn.linear_model import LinearRegression\n",
    "from sklearn.metrics import mean_squared_error, r2_score\n",
    "\n",
    "# Cargar el conjunto de datos de Boston\n",
    "data = load_boston()\n",
    "\n",
    "# Crear DataFrame para las características\n",
    "X = pd.DataFrame(data[\"data\"], columns=data[\"feature_names\"])\n",
    "\n",
    "# Crear DataFrame para la variable objetivo\n",
    "y = pd.DataFrame(data[\"target\"], columns=['MEDV'])\n",
    "\n",
    "# Combinar características y variable objetivo en un solo DataFrame\n",
    "df = pd.concat([X, y], axis=1)\n",
    "\n",
    "# Separar características y variable objetivo\n",
    "X = df.drop(columns=['MEDV'])\n",
    "y = df['MEDV']\n",
    "\n",
    "# Dividir el conjunto de datos en entrenamiento y prueba\n",
    "X_entrenamiento, X_prueba, y_entrenamiento, y_prueba = train_test_split(\n",
    "    X, y, \n",
    "    test_size=0.20,  # 20% de los datos para prueba\n",
    "    random_state=42  # Para reproducibilidad\n",
    ")\n",
    "\n",
    "# Inicializar el modelo de regresión lineal\n",
    "modelo_lr = LinearRegression()\n",
    "\n",
    "# Ajustar el modelo a los datos de entrenamiento\n",
    "modelo_lr.fit(X_entrenamiento, y_entrenamiento)\n",
    "\n",
    "# Generar predicciones en el conjunto de entrenamiento\n",
    "y_pred_entrenamiento = modelo_lr.predict(X_entrenamiento)\n",
    "\n",
    "# Generar predicciones en el conjunto de prueba\n",
    "y_pred_prueba = modelo_lr.predict(X_prueba)\n",
    "\n",
    "# Calcular el error cuadrático medio (MSE) para el conjunto de entrenamiento\n",
    "mse_entrenamiento = mean_squared_error(y_entrenamiento, y_pred_entrenamiento)\n",
    "\n",
    "# Calcular el error cuadrático medio (MSE) para el conjunto de prueba\n",
    "mse_prueba = mean_squared_error(y_prueba, y_pred_prueba)\n",
    "\n",
    "# Imprimir los resultados\n",
    "print(\"Conjunto de Entrenamiento:\")\n",
    "print(f\"Error cuadrático medio (MSE): {mse_entrenamiento:.2f}\")\n",
    "\n",
    "print(\"\\nConjunto de Prueba:\")\n",
    "print(f\"Error cuadrático medio (MSE): {mse_prueba:.2f}\")\n"
   ]
  },
  {
   "cell_type": "markdown",
   "metadata": {},
   "source": [
    "## 5. Calcule e imprima el error medio absoluto para el conjunto de entrenamiento y de prueba."
   ]
  },
  {
   "cell_type": "code",
   "execution_count": null,
   "metadata": {},
   "outputs": [],
   "source": [
    "# Calcular el error medio absoluto (MAE) para el conjunto de entrenamiento\n",
    "mae_entrenamiento = mean_absolute_error(y_entrenamiento, y_pred_entrenamiento)\n",
    "\n",
    "# Calcular el error medio absoluto (MAE) para el conjunto de prueba\n",
    "mae_prueba = mean_absolute_error(y_prueba, y_pred_prueba)\n",
    "\n",
    "# Imprimir los resultados\n",
    "print(\"Conjunto de Entrenamiento:\")\n",
    "print(f\"Error medio absoluto (MAE): {mae_entrenamiento:.2f}\")\n",
    "\n",
    "print(\"\\nConjunto de Prueba:\")\n",
    "print(f\"Error medio absoluto (MAE): {mae_prueba:.2f}\")"
   ]
  },
  {
   "cell_type": "markdown",
   "metadata": {},
   "source": [
    "## Evaluación del modelo de clasificación"
   ]
  },
  {
   "cell_type": "code",
   "execution_count": null,
   "metadata": {},
   "outputs": [],
   "source": [
    "from sklearn.datasets import load_iris\n",
    "\n",
    "data = load_iris()\n",
    "\n",
    "X_c = pd.DataFrame(data[\"data\"], columns=data[\"feature_names\"])\n",
    "y_c = pd.DataFrame(data[\"target\"], columns=[\"class\"])\n",
    "\n",
    "data = pd.concat([X, y], axis=1)"
   ]
  },
  {
   "cell_type": "markdown",
   "metadata": {},
   "source": [
    "## 6. Divida este conjunto de datos en conjuntos de train (80%) y de test (20%).\n",
    "\n",
    "El campo `class` representa el tipo de flor y es la variable objetivo que querremos predecir.\n",
    "# Cargar el conjunto de datos Iris\n",
    "data = load_iris()\n",
    "\n",
    "# Crear DataFrame para las características\n",
    "X = pd.DataFrame(data[\"data\"], columns=data[\"feature_names\"])\n",
    "\n",
    "# Crear DataFrame para la variable objetivo\n",
    "y = pd.DataFrame(data[\"target\"], columns=['class'])\n",
    "\n",
    "# Dividir el conjunto de datos en entrenamiento y prueba\n",
    "X_train, X_test, y_train, y_test = train_test_split(\n",
    "    X, y, \n",
    "    test_size=0.20,  # 20% de los datos para prueba\n",
    "    random_state=42  # Para reproducibilidad\n",
    ")\n",
    "\n",
    "# Imprimir las formas de los conjuntos para verificar la división\n",
    "print(\"Conjunto de Entrenamiento:\")\n",
    "print(f\"Características: {X_train.shape}\")\n",
    "print(f\"Objetivo: {y_train.shape}\")\n",
    "\n",
    "print(\"\\nConjunto de Prueba:\")\n",
    "print(f\"Características: {X_test.shape}\")\n",
    "print(f\"Objetivo: {y_test.shape}\")"
   ]
  },
  {
   "cell_type": "code",
   "execution_count": null,
   "metadata": {},
   "outputs": [],
   "source": [
    "#! pip install plotly"
   ]
  },
  {
   "cell_type": "code",
   "execution_count": null,
   "metadata": {},
   "outputs": [],
   "source": [
    "import matplotlib.pyplot as plt\n",
    "%matplotlib inline\n",
    "import seaborn as sns\n",
    "plt.figure(figsize=(8,8))\n",
    "pd.options.plotting.backend = \"plotly\"\n",
    "sns.set(rc={'figure.figsize':(6,6)});"
   ]
  },
  {
   "cell_type": "markdown",
   "metadata": {},
   "source": [
    "## 7. Entrene un modelo `LogisticRegression` en este conjunto de datos y genere predicciones tanto en el conjunto de entrenamiento como en el de prueba."
   ]
  },
  {
   "cell_type": "code",
   "execution_count": null,
   "metadata": {},
   "outputs": [],
   "source": [
    "import pandas as pd\n",
    "from sklearn.datasets import load_iris\n",
    "from sklearn.model_selection import train_test_split\n",
    "from sklearn.linear_model import LogisticRegression\n",
    "from sklearn.metrics import accuracy_score\n",
    "\n",
    "# Cargar el conjunto de datos Iris\n",
    "iris = load_iris()\n",
    "X = pd.DataFrame(iris.data, columns=iris.feature_names)\n",
    "y = pd.DataFrame(iris.target, columns=['class'])\n",
    "\n",
    "# Dividir el conjunto de datos en entrenamiento y prueba\n",
    "X_train, X_test, y_train, y_test = train_test_split(\n",
    "    X, y, \n",
    "    test_size=0.20,  # 20% de los datos para prueba\n",
    "    random_state=42  # Para reproducibilidad\n",
    ")\n",
    "\n",
    "# Inicializar el modelo de regresión logística\n",
    "modelo_lr = LogisticRegression(max_iter=200)\n",
    "\n",
    "# Ajustar el modelo a los datos de entrenamiento\n",
    "modelo_lr.fit(X_train, y_train.values.ravel())\n",
    "\n",
    "# Hacer predicciones en el conjunto de entrenamiento\n",
    "y_pred_train = modelo_lr.predict(X_train)\n",
    "\n",
    "# Hacer predicciones en el conjunto de prueba\n",
    "y_pred_test = modelo_lr.predict(X_test)\n",
    "\n",
    "# Imprimir las predicciones para entrenamiento y prueba\n",
    "print(\"Predicciones para el Conjunto de Entrenamiento:\")\n",
    "print(y_pred_train)\n",
    "\n",
    "print(\"\\nPredicciones para el Conjunto de Prueba:\")\n",
    "print(y_pred_test)\n"
   ]
  },
  {
   "cell_type": "markdown",
   "metadata": {},
   "source": [
    "## 8. Calcule e imprima la puntuación de precisión tanto para el conjunto de entrenamiento como para el de pruebas."
   ]
  },
  {
   "cell_type": "markdown",
   "metadata": {},
   "source": [
    "    Esta función resuelve los ejercicios 8,9,10,11,12 y 13."
   ]
  },
  {
   "cell_type": "code",
   "execution_count": null,
   "metadata": {},
   "outputs": [],
   "source": [
    "import pandas as pd\n",
    "from sklearn.datasets import load_iris\n",
    "from sklearn.model_selection import train_test_split\n",
    "from sklearn.linear_model import LogisticRegression\n",
    "from sklearn.metrics import accuracy_score\n",
    "\n",
    "# Cargar el conjunto de datos Iris\n",
    "iris = load_iris()\n",
    "X = pd.DataFrame(iris.data, columns=iris.feature_names)\n",
    "y = pd.DataFrame(iris.target, columns=['class'])\n",
    "\n",
    "# Dividir el conjunto de datos en entrenamiento y prueba\n",
    "X_train, X_test, y_train, y_test = train_test_split(\n",
    "    X, y, \n",
    "    test_size=0.20,  # 20% de los datos para prueba\n",
    "    random_state=42  # Para reproducibilidad\n",
    ")\n",
    "\n",
    "# Inicializar el modelo de regresión logística\n",
    "modelo_lr = LogisticRegression(max_iter=200)\n",
    "\n",
    "# Ajustar el modelo a los datos de entrenamiento\n",
    "modelo_lr.fit(X_train, y_train.values.ravel())\n",
    "\n",
    "# Hacer predicciones en el conjunto de entrenamiento\n",
    "y_pred_train = modelo_lr.predict(X_train)\n",
    "\n",
    "# Hacer predicciones en el conjunto de prueba\n",
    "y_pred_test = modelo_lr.predict(X_test)\n",
    "\n",
    "# Calcular la precisión para el conjunto de entrenamiento\n",
    "accuracy_train = accuracy_score(y_train, y_pred_train)\n",
    "\n",
    "# Calcular la precisión para el conjunto de prueba\n",
    "accuracy_test = accuracy_score(y_test, y_pred_test)\n",
    "\n",
    "# Imprimir las puntuaciones de precisión\n",
    "print(\"Precisión para el Conjunto de Entrenamiento:\")\n",
    "print(f\"Precisión: {accuracy_train:.2f}\")\n",
    "\n",
    "print(\"\\nPrecisión para el Conjunto de Prueba:\")\n",
    "print(f\"Precisión: {accuracy_test:.2f}\")\n"
   ]
  },
  {
   "cell_type": "markdown",
   "metadata": {},
   "source": [
    "## 9. Calcule e imprima la puntuación de precisión equilibrada tanto para el conjunto de entrenamiento como para el de pruebas."
   ]
  },
  {
   "cell_type": "code",
   "execution_count": null,
   "metadata": {},
   "outputs": [],
   "source": [
    "# Your code here"
   ]
  },
  {
   "cell_type": "markdown",
   "metadata": {},
   "source": [
    "## 10. Calcule e imprima la puntuación de precisión tanto para el conjunto de entrenamiento como para el de prueba."
   ]
  },
  {
   "cell_type": "code",
   "execution_count": null,
   "metadata": {},
   "outputs": [],
   "source": [
    "# Your code here"
   ]
  },
  {
   "cell_type": "markdown",
   "metadata": {},
   "source": [
    "## 11. Calcule e imprima la puntuación de recuerdo tanto para el conjunto de entrenamiento como para el de prueba."
   ]
  },
  {
   "cell_type": "code",
   "execution_count": null,
   "metadata": {},
   "outputs": [],
   "source": [
    "# Your code here"
   ]
  },
  {
   "cell_type": "markdown",
   "metadata": {},
   "source": [
    "## 12. Calcule e imprima la puntuación F1 tanto para el conjunto de entrenamiento como para el de prueba."
   ]
  },
  {
   "cell_type": "code",
   "execution_count": null,
   "metadata": {},
   "outputs": [],
   "source": [
    "# Your code here"
   ]
  },
  {
   "cell_type": "markdown",
   "metadata": {},
   "source": [
    "## 13. Generar matrices de confusión tanto para el conjunto de entrenamiento como para el de pruebas."
   ]
  },
  {
   "cell_type": "code",
   "execution_count": null,
   "metadata": {},
   "outputs": [],
   "source": [
    "# Your code here"
   ]
  },
  {
   "cell_type": "markdown",
   "metadata": {},
   "source": [
    "## Bonus: Para cada uno de los conjuntos de datos de este laboratorio, intente entrenar con algunos de los otros modelos que ha aprendido, vuelva a calcular las métricas de evaluación y compare para determinar qué modelos funcionan mejor en cada conjunto de datos."
   ]
  },
  {
   "cell_type": "code",
   "execution_count": null,
   "metadata": {},
   "outputs": [],
   "source": [
    "# Your code here"
   ]
  }
 ],
 "metadata": {
  "kernelspec": {
   "display_name": "Python 3 (ipykernel)",
   "language": "python",
   "name": "python3"
  },
  "language_info": {
   "codemirror_mode": {
    "name": "ipython",
    "version": 3
   },
   "file_extension": ".py",
   "mimetype": "text/x-python",
   "name": "python",
   "nbconvert_exporter": "python",
   "pygments_lexer": "ipython3",
   "version": "3.11.3"
  }
 },
 "nbformat": 4,
 "nbformat_minor": 2
}
